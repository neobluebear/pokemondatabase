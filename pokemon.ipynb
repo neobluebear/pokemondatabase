{
 "cells": [
  {
   "cell_type": "code",
   "execution_count": 1,
   "metadata": {},
   "outputs": [],
   "source": [
    "import mysql.connector"
   ]
  },
  {
   "cell_type": "code",
   "execution_count": 2,
   "metadata": {},
   "outputs": [],
   "source": [
    "db = mysql.connector.connect(\n",
    "    host=\"localhost\",\n",
    "    user=\"root\",\n",
    "    password=\"password\"\n",
    ")"
   ]
  },
  {
   "cell_type": "code",
   "execution_count": 3,
   "metadata": {},
   "outputs": [],
   "source": [
    " cursor = db.cursor()\n",
    " cursor.execute(\"CREATE DATABASE IF NOT EXISTS pokemon_db\")"
   ]
  },
  {
   "cell_type": "code",
   "execution_count": 4,
   "metadata": {},
   "outputs": [],
   "source": [
    "pokemon_db = mysql.connector.connect(\n",
    "    host=\"localhost\",\n",
    "    user=\"root\",\n",
    "    password=\"password\",\n",
    "    database=\"pokemon_db\"\n",
    ")"
   ]
  },
  {
   "cell_type": "code",
   "execution_count": 5,
   "metadata": {},
   "outputs": [],
   "source": [
    "cursor = pokemon_db.cursor()"
   ]
  },
  {
   "cell_type": "code",
   "execution_count": 6,
   "metadata": {},
   "outputs": [],
   "source": [
    "sql_pokemon = \"CREATE TABLE IF NOT EXISTS \\\n",
    "    pokemon( \\\n",
    "        pokemon_id INT PRIMARY KEY, \\\n",
    "        name VARCHAR(255) NOT NULL, \\\n",
    "        type1_id INT, \\\n",
    "        type2_id INT, \\\n",
    "        FOREIGN KEY (type1_id) REFERENCES pokemon_types(type_id), \\\n",
    "        FOREIGN KEY (type2_id) REFERENCES pokemon_types(type_id) \\\n",
    "    )\""
   ]
  },
  {
   "cell_type": "code",
   "execution_count": 7,
   "metadata": {},
   "outputs": [],
   "source": [
    "sql_pokemon_types = \"CREATE TABLE IF NOT EXISTS \\\n",
    "    pokemon_types( \\\n",
    "        type_id INT PRIMARY KEY, \\\n",
    "        type_name VARCHAR(255) NOT NULL \\\n",
    "    )\""
   ]
  },
  {
   "cell_type": "code",
   "execution_count": 8,
   "metadata": {},
   "outputs": [],
   "source": [
    "sql_pokemon_stats = \"CREATE TABLE IF NOT EXISTS \\\n",
    "    pokemon_stats( \\\n",
    "        pokemon_id INT, \\\n",
    "        hp INT NOT NULL, \\\n",
    "        attack INT NOT NULL, \\\n",
    "        defense INT NOT NULL, \\\n",
    "        special_attack INT NOT NULL, \\\n",
    "        special_defense INT NOT NULL, \\\n",
    "        speed INT NOT NULL, \\\n",
    "        PRIMARY KEY (pokemon_id), \\\n",
    "        FOREIGN KEY (pokemon_id) REFERENCES pokemon(pokemon_id) \\\n",
    "    )\""
   ]
  },
  {
   "cell_type": "code",
   "execution_count": 9,
   "metadata": {},
   "outputs": [],
   "source": [
    "sql_pokemon_evolutions = \"CREATE TABLE IF NOT EXISTS \\\n",
    "    pokemon_evolutions( \\\n",
    "        evolution_id INT PRIMARY KEY, \\\n",
    "        pokemon_id INT, \\\n",
    "        evolves_from_id INT, \\\n",
    "        evolves_to_id INT, \\\n",
    "        FOREIGN KEY (pokemon_id) REFERENCES pokemon(pokemon_id), \\\n",
    "        FOREIGN KEY (evolves_from_id) REFERENCES pokemon(pokemon_id), \\\n",
    "        FOREIGN KEY (evolves_to_id) REFERENCES pokemon(pokemon_id) \\\n",
    ")\""
   ]
  },
  {
   "cell_type": "code",
   "execution_count": 10,
   "metadata": {},
   "outputs": [],
   "source": [
    "sql_abilities = \"CREATE TABLE IF NOT EXISTS \\\n",
    "    abilities( \\\n",
    "    ability_id INT AUTO_INCREMENT PRIMARY KEY, \\\n",
    "    name VARCHAR(255) NOT NULL, \\\n",
    "    description TEXT NOT NULL \\\n",
    ")\""
   ]
  },
  {
   "cell_type": "code",
   "execution_count": 11,
   "metadata": {},
   "outputs": [],
   "source": [
    "sql_pokemon_abilities = \"CREATE TABLE IF NOT EXISTS \\\n",
    "    pokemon_abilities( \\\n",
    "        pokemon_id INT, \\\n",
    "        ability_id INT, \\\n",
    "        PRIMARY KEY (pokemon_id, ability_id), \\\n",
    "        FOREIGN KEY (pokemon_id) REFERENCES pokemon(pokemon_id), \\\n",
    "        FOREIGN KEY (ability_id) REFERENCES abilities(ability_id) \\\n",
    ")\""
   ]
  },
  {
   "cell_type": "code",
   "execution_count": 12,
   "metadata": {},
   "outputs": [],
   "source": [
    "cursor = pokemon_db.cursor()\n",
    "cursor.execute(sql_pokemon_types)"
   ]
  },
  {
   "cell_type": "code",
   "execution_count": 13,
   "metadata": {},
   "outputs": [],
   "source": [
    "pokemon_types = [\"normal\", \"fire\", \"water\", \"electric\", \"grass\", \"ice\", \"fighting\", \"poison\", \"ground\", \"flying\", \"psychic\", \"bug\", \"rock\", \"ghost\", \"dragon\", \"dark\", \"steel\", \"fairy\"]\n",
    "\n",
    "cursor = pokemon_db.cursor()\n",
    "\n",
    "for type in pokemon_types:\n",
    "    sql = \"INSERT INTO pokemon_types(type_id, type_name) VALUES (%s, %s)\"\n",
    "    cursor.execute(sql, (pokemon_types.index(type)+1, type))\n",
    "    \n",
    "pokemon_db.commit()"
   ]
  },
  {
   "cell_type": "code",
   "execution_count": 14,
   "metadata": {},
   "outputs": [],
   "source": [
    "cursor = pokemon_db.cursor()\n",
    "cursor.execute(sql_pokemon)"
   ]
  },
  {
   "cell_type": "code",
   "execution_count": 15,
   "metadata": {},
   "outputs": [],
   "source": [
    "cursor = pokemon_db.cursor()\n",
    "cursor.execute(sql_pokemon_stats)"
   ]
  },
  {
   "cell_type": "code",
   "execution_count": 16,
   "metadata": {},
   "outputs": [],
   "source": [
    "cursor = pokemon_db.cursor()\n",
    "cursor.execute(sql_pokemon_evolutions)"
   ]
  },
  {
   "cell_type": "code",
   "execution_count": 17,
   "metadata": {},
   "outputs": [],
   "source": [
    "cursor = pokemon_db.cursor()\n",
    "cursor.execute(sql_abilities)"
   ]
  },
  {
   "cell_type": "code",
   "execution_count": 18,
   "metadata": {},
   "outputs": [],
   "source": [
    "cursor = pokemon_db.cursor()\n",
    "cursor.execute(sql_pokemon_abilities)"
   ]
  },
  {
   "cell_type": "code",
   "execution_count": 19,
   "metadata": {},
   "outputs": [],
   "source": [
    "pokemon_db.close()"
   ]
  },
  {
   "cell_type": "code",
   "execution_count": null,
   "metadata": {},
   "outputs": [],
   "source": []
  }
 ],
 "metadata": {
  "kernelspec": {
   "display_name": "Python 3 (ipykernel)",
   "language": "python",
   "name": "python3"
  },
  "language_info": {
   "codemirror_mode": {
    "name": "ipython",
    "version": 3
   },
   "file_extension": ".py",
   "mimetype": "text/x-python",
   "name": "python",
   "nbconvert_exporter": "python",
   "pygments_lexer": "ipython3",
   "version": "3.11.5"
  }
 },
 "nbformat": 4,
 "nbformat_minor": 2
}
